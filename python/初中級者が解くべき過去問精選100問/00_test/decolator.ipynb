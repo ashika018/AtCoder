{
 "cells": [
  {
   "cell_type": "markdown",
   "metadata": {},
   "source": [
    "# デコレータのサンプルコード"
   ]
  },
  {
   "cell_type": "markdown",
   "metadata": {},
   "source": [
    "## 1. 計算時間計測デコレータ"
   ]
  },
  {
   "cell_type": "code",
   "execution_count": 1,
   "metadata": {},
   "outputs": [
    {
     "name": "stdout",
     "output_type": "stream",
     "text": [
      "関数\"slow_function\"の実行時間：2.004990816116333秒\n"
     ]
    }
   ],
   "source": [
    "import time\n",
    "\n",
    "def timer_decorator(func):\n",
    "    def wrapper(*args, **kwargs):\n",
    "        start = time.time()\n",
    "        result = func(*args, **kwargs)\n",
    "        end = time.time()\n",
    "        print(f'関数\"{func.__name__}\"の実行時間：{end - start}秒')\n",
    "        return result\n",
    "    return wrapper\n",
    "\n",
    "@timer_decorator\n",
    "def slow_function():\n",
    "    time.sleep(2)\n",
    "\n",
    "slow_function()\n",
    "# == timer_decorator(slow_function())"
   ]
  },
  {
   "cell_type": "markdown",
   "metadata": {},
   "source": [
    "## 2. キャッシュ（メモ化再帰）用デコレータ"
   ]
  },
  {
   "cell_type": "code",
   "execution_count": 9,
   "metadata": {},
   "outputs": [
    {
     "name": "stdout",
     "output_type": "stream",
     "text": [
      "55\n"
     ]
    }
   ],
   "source": [
    "import functools\n",
    "\n",
    "def cache_decorator(func):\n",
    "    cache = dict()\n",
    "    @functools.wraps(func)\n",
    "    def wrapper(n):\n",
    "        if n not in cache:\n",
    "            cache[n] = func(n)\n",
    "        return cache[n]\n",
    "    return wrapper\n",
    "\n",
    "@cache_decorator\n",
    "def fib(n):\n",
    "    if n < 2:\n",
    "        return n\n",
    "    else:\n",
    "        return fib(n-1) + fib(n-2)\n",
    "\n",
    "print(fib(10))  # 55と出力されます\n",
    "# == cache_decorator(fib(n))"
   ]
  },
  {
   "cell_type": "markdown",
   "metadata": {},
   "source": [
    "## 3. リトライ機能デコレータ(デコレータ自身に引数を持たせたい場合)"
   ]
  },
  {
   "cell_type": "code",
   "execution_count": 8,
   "metadata": {},
   "outputs": [
    {
     "name": "stdout",
     "output_type": "stream",
     "text": [
      "データ取得を試みます...\n",
      "データ取得成功！\n",
      "データ\n"
     ]
    }
   ],
   "source": [
    "import time\n",
    "import random\n",
    "\n",
    "def retry_decorator(max_retries=3, delay=1):\n",
    "    def decorator(func):\n",
    "        def wrapper(*args, **kwargs):\n",
    "            for i in range(max_retries):\n",
    "                try:\n",
    "                    return func(*args, **kwargs)\n",
    "                except Exception:\n",
    "                    time.sleep(delay)\n",
    "            return func(*args, **kwargs)\n",
    "        return wrapper\n",
    "    return decorator\n",
    "\n",
    "@retry_decorator(max_retries=2, delay=2)\n",
    "def get_data():\n",
    "    print(\"データ取得を試みます...\")\n",
    "    if random.choice([True, False]):\n",
    "        print(\"データ取得成功！\")\n",
    "        return \"データ\"\n",
    "    else:\n",
    "        print(\"データ取得失敗...\")\n",
    "        raise Exception(\"データ取得エラー\")\n",
    "\n",
    "print(get_data())\n",
    "#  == retry_decorator(max_retries=2, delay=2)(get_data())"
   ]
  },
  {
   "cell_type": "code",
   "execution_count": null,
   "metadata": {},
   "outputs": [],
   "source": []
  },
  {
   "cell_type": "code",
   "execution_count": null,
   "metadata": {},
   "outputs": [],
   "source": []
  }
 ],
 "metadata": {
  "kernelspec": {
   "display_name": "venv_alg",
   "language": "python",
   "name": "python3"
  },
  "language_info": {
   "codemirror_mode": {
    "name": "ipython",
    "version": 3
   },
   "file_extension": ".py",
   "mimetype": "text/x-python",
   "name": "python",
   "nbconvert_exporter": "python",
   "pygments_lexer": "ipython3",
   "version": "3.9.6"
  }
 },
 "nbformat": 4,
 "nbformat_minor": 2
}
