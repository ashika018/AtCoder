{
 "cells": [
  {
   "cell_type": "code",
   "execution_count": 1,
   "metadata": {},
   "outputs": [
    {
     "name": "stdout",
     "output_type": "stream",
     "text": [
      "3\n"
     ]
    }
   ],
   "source": [
    "import numpy as np  \n",
    "\n",
    "print(-1%4)"
   ]
  },
  {
   "cell_type": "markdown",
   "metadata": {},
   "source": [
    "# 057.py\n"
   ]
  },
  {
   "cell_type": "markdown",
   "metadata": {},
   "source": [
    "heapキューにタプルを入れた場合、二つ目の要素でpopされている。  \n",
    "つまり、最小値の要素を取り出すときに、基準としたい要素は左側に格納すべし\n"
   ]
  },
  {
   "cell_type": "code",
   "execution_count": 2,
   "metadata": {},
   "outputs": [
    {
     "name": "stdout",
     "output_type": "stream",
     "text": [
      "Min Element: (3, 'apple')\n",
      "Remaining Heap: [(1, 'banana'), (1, 'kiwi'), (4, 'orange'), (2, 'pear'), (5, 'grape'), (9, 'melon')]\n",
      "No.2 Min Element: (1, 'banana')\n",
      "Remaining Heap: [(1, 'kiwi'), (2, 'pear'), (4, 'orange'), (9, 'melon'), (5, 'grape')]\n"
     ]
    }
   ],
   "source": [
    "import heapq\n",
    "\n",
    "# tupleが要素のヒープを作成\n",
    "heap = [(3, 'apple'), (1, 'banana'), (4, 'orange'), (1, 'kiwi'), (5, 'grape'), (9, 'melon'), (2, 'pear')]\n",
    "\n",
    "# 最小の要素を取り出す\n",
    "min_element = heapq.heappop(heap)\n",
    "\n",
    "print(f\"Min Element: {min_element}\")\n",
    "print(f\"Remaining Heap: {heap}\")\n",
    "\n",
    "min_element = heapq.heappop(heap)\n",
    "\n",
    "print(f\"No.2 Min Element: {min_element}\")\n",
    "print(f\"Remaining Heap: {heap}\")\n"
   ]
  },
  {
   "cell_type": "code",
   "execution_count": 4,
   "metadata": {},
   "outputs": [
    {
     "name": "stdout",
     "output_type": "stream",
     "text": [
      "Heap: [(3, 'apple'), (1, 'banana'), (4, 'orange'), (1, 'kiwi'), (5, 'grape'), (9, 'melon'), (2, 'pear'), (6, 'apple')]\n"
     ]
    }
   ],
   "source": [
    "# 同じ値のやつがいたらheapってどうなるの？？\n",
    "import heapq\n",
    "\n",
    "# tupleが要素のヒープを作成\n",
    "heap = [(3, 'apple'), (1, 'banana'), (4, 'orange'), (1, 'kiwi'), (5, 'grape'), (9, 'melon'), (2, 'pear')]\n",
    "\n",
    "# 新しい要素の追加\n",
    "heapq.heappush(heap, (6, 'apple'))\n",
    "\n",
    "print(f\"Heap: {heap}\")\n"
   ]
  },
  {
   "cell_type": "markdown",
   "metadata": {},
   "source": []
  },
  {
   "cell_type": "code",
   "execution_count": 5,
   "metadata": {},
   "outputs": [
    {
     "name": "stdout",
     "output_type": "stream",
     "text": [
      "['a', 'b', 'c', 'd', 'e']\n"
     ]
    }
   ],
   "source": [
    "s='abcde'\n",
    "print(list(s))"
   ]
  },
  {
   "cell_type": "code",
   "execution_count": 6,
   "metadata": {},
   "outputs": [
    {
     "name": "stdout",
     "output_type": "stream",
     "text": [
      "[1, 1, 1, 2, 2, 2]\n"
     ]
    }
   ],
   "source": [
    "l1 = [1,1,1]\n",
    "l2 = [2,2,2]\n",
    "l3 = l1+l2\n",
    "print(l3)"
   ]
  },
  {
   "cell_type": "code",
   "execution_count": 7,
   "metadata": {},
   "outputs": [
    {
     "name": "stdout",
     "output_type": "stream",
     "text": [
      "15\n",
      "14\n",
      "13\n",
      "12\n",
      "11\n",
      "10\n",
      "9\n",
      "8\n",
      "7\n",
      "6\n",
      "5\n"
     ]
    }
   ],
   "source": [
    "for i in range(10,-1,-1):\n",
    "    print(i+5)"
   ]
  },
  {
   "cell_type": "code",
   "execution_count": null,
   "metadata": {},
   "outputs": [],
   "source": []
  }
 ],
 "metadata": {
  "kernelspec": {
   "display_name": "venv_alg",
   "language": "python",
   "name": "python3"
  },
  "language_info": {
   "codemirror_mode": {
    "name": "ipython",
    "version": 3
   },
   "file_extension": ".py",
   "mimetype": "text/x-python",
   "name": "python",
   "nbconvert_exporter": "python",
   "pygments_lexer": "ipython3",
   "version": "3.9.6"
  }
 },
 "nbformat": 4,
 "nbformat_minor": 2
}
